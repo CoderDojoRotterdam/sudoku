{
 "cells": [
  {
   "cell_type": "markdown",
   "metadata": {},
   "source": [
    "# In en uitvoer\n",
    "Hieronder even een samenvatting van de vorige stap, met de functies die we nodig heben voor het oplossen van de puzzel"
   ]
  },
  {
   "cell_type": "code",
   "execution_count": 1,
   "metadata": {
    "collapsed": false
   },
   "outputs": [
    {
     "name": "stdout",
     "output_type": "stream",
     "text": [
      "3        3,2,4,1  4        3,2,4,1  \n",
      "3,2,4,1  1        3,2,4,1  3        \n",
      "2        3        3,2,4,1  3,2,4,1  \n",
      "1        3,2,4,1  3,2,4,1  2        \n",
      "\n"
     ]
    }
   ],
   "source": [
    "# tekst kan je invoeren door met drie dubbele quotes te beginnen en eindigen\n",
    "invoer = \"\"\"\n",
    "3 . | 4 . \n",
    ". 1 | . 3\n",
    "----+----\n",
    "2 3 | . .\n",
    "1 . | . 2\n",
    "\"\"\"\n",
    "gefilterd = [letter for letter in invoer if letter in '.1234']\n",
    "def vervang(letter):\n",
    "    if letter == '.':\n",
    "        return set('1234')\n",
    "    else:\n",
    "        return set(letter)\n",
    "\n",
    "sudoku = [vervang(letter) for letter in gefilterd ]\n",
    "def print_sudoku(sudoku):\n",
    "    s = ''\n",
    "    for rij in range(4):\n",
    "        for kolom in range(4):\n",
    "            s += '{:9s}'.format(','.join(sudoku[rij*4+kolom]))\n",
    "        s += '\\n'\n",
    "    print(s)\n",
    "    \n",
    "print_sudoku(sudoku)"
   ]
  },
  {
   "cell_type": "markdown",
   "metadata": {},
   "source": [
    "# De regels van een sudoku"
   ]
  },
  {
   "cell_type": "code",
   "execution_count": 2,
   "metadata": {
    "collapsed": false,
    "scrolled": true
   },
   "outputs": [
    {
     "name": "stdout",
     "output_type": "stream",
     "text": [
      "A A A {'3'}\n",
      "A B A {'3', '2', '4', '1'}\n",
      "A C B {'4'}\n",
      "A D B {'3', '2', '4', '1'}\n",
      "B A A {'3', '2', '4', '1'}\n",
      "B B A {'1'}\n",
      "B C B {'3', '2', '4', '1'}\n",
      "B D B {'3'}\n",
      "C A C {'2'}\n",
      "C B C {'3'}\n",
      "C C D {'3', '2', '4', '1'}\n",
      "C D D {'3', '2', '4', '1'}\n",
      "D A C {'1'}\n",
      "D B C {'3', '2', '4', '1'}\n",
      "D C D {'3', '2', '4', '1'}\n",
      "D D D {'2'}\n"
     ]
    }
   ],
   "source": [
    "allowed = 'ABCD'\n",
    "\n",
    "row = \"\"\"\n",
    "AAAA\n",
    "BBBB\n",
    "CCCC\n",
    "DDDD\n",
    "\"\"\"\n",
    "row = [s for s in row if s in allowed]\n",
    "\n",
    "column = \"\"\"\n",
    "ABCD\n",
    "ABCD\n",
    "ABCD\n",
    "ABCD\n",
    "\"\"\"\n",
    "column = [s for s in column if s in allowed]\n",
    "\n",
    "block = \"\"\"\n",
    "AABB\n",
    "AABB\n",
    "CCDD\n",
    "CCDD\n",
    "\"\"\"\n",
    "block = [s for s in block if s in allowed]\n",
    "\n",
    "\n",
    "for r,c,b,s in zip(row,column,block,sudoku):\n",
    "    print(r,c,b,s)\n",
    "    \n",
    "    \n"
   ]
  },
  {
   "cell_type": "markdown",
   "metadata": {},
   "source": [
    "# Toepassen van de regels"
   ]
  },
  {
   "cell_type": "code",
   "execution_count": 3,
   "metadata": {
    "collapsed": false
   },
   "outputs": [
    {
     "name": "stdout",
     "output_type": "stream",
     "text": [
      "3        2        4        1        \n",
      "4        1        2        3        \n",
      "2        3        1        4        \n",
      "1        4        3        2        \n",
      "\n"
     ]
    }
   ],
   "source": [
    "for s1, r1, c1 ,b1 in zip(sudoku,row,column,block):\n",
    "    if len(s1) == 1:\n",
    "        continue\n",
    "\n",
    "    for s2, r2, c2 ,b2 in zip(sudoku,row,column,block):\n",
    "        if s1 is s2:\n",
    "            continue\n",
    "\n",
    "        if len(s2) == 1:\n",
    "            if r1 == r2 or c1 == c2 or b1 == b2:\n",
    "                s1 -= s2\n",
    "\n",
    "print_sudoku(sudoku)"
   ]
  }
 ],
 "metadata": {
  "kernelspec": {
   "display_name": "Python 3",
   "language": "python",
   "name": "python3"
  },
  "language_info": {
   "codemirror_mode": {
    "name": "ipython",
    "version": 3
   },
   "file_extension": ".py",
   "mimetype": "text/x-python",
   "name": "python",
   "nbconvert_exporter": "python",
   "pygments_lexer": "ipython3",
   "version": "3.5.2"
  }
 },
 "nbformat": 4,
 "nbformat_minor": 0
}
