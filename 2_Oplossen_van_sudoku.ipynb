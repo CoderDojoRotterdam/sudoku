{
 "cells": [
  {
   "cell_type": "markdown",
   "metadata": {},
   "source": [
    "# In en uitvoer\n",
    "Hieronder even een samenvatting van de vorige stap, met de functies die we nodig heben voor het oplossen van de puzzel"
   ]
  },
  {
   "cell_type": "code",
   "execution_count": 1,
   "metadata": {
    "collapsed": false
   },
   "outputs": [],
   "source": [
    "KOLOMMEN = 4\n",
    "TEKENS = ['1','2','3','4']\n",
    "\n",
    "def print_sudoku(sudoku):\n",
    "    for i, s in enumerate(sudoku):\n",
    "        s = str(s).center(24)\n",
    "        if ( (i+1) % KOLOMMEN) == 0:\n",
    "            print(s)\n",
    "        else:\n",
    "            print(s,end='')\n",
    "            \n",
    "\n",
    "def lees_sudoku(invoer):\n",
    "    toegestane_invoer = TEKENS + ['.'] \n",
    "    \n",
    "    # filteren\n",
    "    gefilterd = [teken for teken in invoer if teken in toegestane_invoer]\n",
    "    \n",
    "    # vervangen . voor alle tekens, en omzetten naar set\n",
    "    sudoku = [set(TEKENS) if teken == '.' else set(teken) for teken in gefilterd]\n",
    "\n",
    "    return(sudoku)"
   ]
  },
  {
   "cell_type": "code",
   "execution_count": 2,
   "metadata": {
    "collapsed": false
   },
   "outputs": [
    {
     "name": "stdout",
     "output_type": "stream",
     "text": [
      "         {'3'}            {'2', '4', '1', '3'}           {'4'}            {'2', '4', '1', '3'}  \n",
      "  {'2', '4', '1', '3'}           {'1'}            {'2', '4', '1', '3'}           {'3'}          \n",
      "         {'2'}                   {'3'}            {'2', '4', '1', '3'}    {'2', '4', '1', '3'}  \n",
      "         {'1'}            {'2', '4', '1', '3'}    {'2', '4', '1', '3'}           {'2'}          \n"
     ]
    }
   ],
   "source": [
    "invoer = \"\"\"\n",
    "3 . | 4 . \n",
    ". 1 | . 3\n",
    "----+----\n",
    "2 3 | . .\n",
    "1 . | . 2\n",
    "\"\"\"\n",
    "sudoku = lees_sudoku(invoer)\n",
    "print_sudoku(sudoku)"
   ]
  },
  {
   "cell_type": "markdown",
   "metadata": {},
   "source": [
    "# De regels van een sudoku"
   ]
  },
  {
   "cell_type": "code",
   "execution_count": 3,
   "metadata": {
    "collapsed": false
   },
   "outputs": [],
   "source": [
    "rijen = \"\"\"\n",
    "AAAA\n",
    "BBBB\n",
    "CCCC\n",
    "DDDD\n",
    "\"\"\"\n",
    "rijen = list(rijen.replace(\"\\n\", \"\"))"
   ]
  },
  {
   "cell_type": "code",
   "execution_count": 4,
   "metadata": {
    "collapsed": false,
    "scrolled": true
   },
   "outputs": [
    {
     "name": "stdout",
     "output_type": "stream",
     "text": [
      "1 A w {'3'}\n",
      "1 B w {'2', '4', '1', '3'}\n",
      "1 C x {'4'}\n",
      "1 D x {'2', '4', '1', '3'}\n",
      "2 A w {'2', '4', '1', '3'}\n",
      "2 B w {'1'}\n",
      "2 C x {'2', '4', '1', '3'}\n",
      "2 D x {'3'}\n",
      "3 A y {'2'}\n",
      "3 B y {'3'}\n",
      "3 C z {'2', '4', '1', '3'}\n",
      "3 D z {'2', '4', '1', '3'}\n",
      "4 A y {'1'}\n",
      "4 B y {'2', '4', '1', '3'}\n",
      "4 C z {'2', '4', '1', '3'}\n",
      "4 D z {'2'}\n"
     ]
    }
   ],
   "source": [
    "rij = \"\"\"\n",
    "1111\n",
    "2222\n",
    "3333\n",
    "4444\n",
    "\"\"\"\n",
    "rij = list(rij.replace(\"\\n\", \"\"))\n",
    "\n",
    "kolom = \"\"\"\n",
    "ABCD\n",
    "ABCD\n",
    "ABCD\n",
    "ABCD\n",
    "\"\"\"\n",
    "kolom = list(kolom.replace(\"\\n\", \"\"))\n",
    "\n",
    "blok = \"\"\"\n",
    "wwxx\n",
    "wwxx\n",
    "yyzz\n",
    "yyzz\n",
    "\"\"\"\n",
    "blok = list(blok.replace(\"\\n\", \"\"))\n",
    "\n",
    "\n",
    "for r,c,b,s in zip(rij,kolom,blok,sudoku):\n",
    "    print(r,c,b,s)\n",
    "    \n",
    "    \n"
   ]
  },
  {
   "cell_type": "markdown",
   "metadata": {},
   "source": [
    "# Toepassen van de regels"
   ]
  },
  {
   "cell_type": "code",
   "execution_count": 5,
   "metadata": {
    "collapsed": false
   },
   "outputs": [
    {
     "name": "stdout",
     "output_type": "stream",
     "text": [
      "         {'3'}                   {'2'}                   {'4'}                   {'1'}          \n",
      "         {'4'}                   {'1'}                   {'2'}                   {'3'}          \n",
      "         {'2'}                   {'3'}                   {'1'}                   {'4'}          \n",
      "         {'1'}                   {'4'}                   {'3'}                   {'2'}          \n"
     ]
    }
   ],
   "source": [
    "for s1, r1, c1 ,b1 in zip(sudoku,rij,kolom,blok):\n",
    "    if len(s1) == 1:\n",
    "        continue\n",
    "\n",
    "    for s2, r2, c2 ,b2 in zip(sudoku,rij,kolom,blok):\n",
    "        if s1 is s2:\n",
    "            continue\n",
    "\n",
    "        if len(s2) == 1:\n",
    "            if r1 == r2 or c1 == c2 or b1 == b2:\n",
    "                s1 -= s2\n",
    "\n",
    "print_sudoku(sudoku)"
   ]
  },
  {
   "cell_type": "code",
   "execution_count": null,
   "metadata": {
    "collapsed": true
   },
   "outputs": [],
   "source": []
  }
 ],
 "metadata": {
  "kernelspec": {
   "display_name": "Python 3",
   "language": "python",
   "name": "python3"
  },
  "language_info": {
   "codemirror_mode": {
    "name": "ipython",
    "version": 3
   },
   "file_extension": ".py",
   "mimetype": "text/x-python",
   "name": "python",
   "nbconvert_exporter": "python",
   "pygments_lexer": "ipython3",
   "version": "3.5.2"
  }
 },
 "nbformat": 4,
 "nbformat_minor": 0
}
