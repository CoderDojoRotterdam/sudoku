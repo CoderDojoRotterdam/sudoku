{
 "cells": [
  {
   "cell_type": "markdown",
   "metadata": {},
   "source": [
    "# Introductie"
   ]
  },
  {
   "cell_type": "markdown",
   "metadata": {},
   "source": [
    "## Voorbereiding\n",
    "\n",
    "Om zelf een jupyter notebook te draaien moet je het volgende doen:\n",
    "\n",
    "- Installeer [Anaconda](http://repo.continuum.io/archive/Anaconda3-4.1.1-Windows-x86_64.exe)\n",
    "- start de python omgeving vanaf de command line met het commando\n",
    "  \n",
    "\n",
    "      jupyter notebook\n",
    "\n",
    "  \n",
    "- open de notebook omgeving in je browser: http://localhost:8888\n",
    "\n",
    "Wat ook kan is een tijdelijke notebook openen op http://try.jupyter.org/, maar dit werkt helaas niet met de laatste chrome, wel met firefox. Deze notebook is tijdelijk, dus als je hem sluit is alles weer weg.\n",
    "\n",
    "Laatste optie, dat je een notebook opent vanaf mijn computer, maar dit werk alleen voor de duur van de workshop.\n",
    "\n"
   ]
  },
  {
   "cell_type": "markdown",
   "metadata": {},
   "source": [
    "## Sudoku\n",
    "\n",
    "Een sudoku is een puzzel die je vaak ziet, bijvoorbeeld in de krant. Hieronder een voorbeeld:\n",
    "<img src=./examples/hard.gif width=240px></img>\n",
    "\n",
    "Met heel veel geduld en gepuzzel kan je deze sudoku oplossen. *Dat is natuurlijk een beetje saai*... Wat ook kan, is hem **door de computer laten oplossen!**\n",
    "\n",
    "### De opgave\n",
    "\n",
    "Om het niet gelijk al te ingewikkeld te maken, gaan we deze sudoku proberen op te lossen\n",
    "<img src=./examples/2x2b.png width = 120px></img>\n",
    "\n",
    "Dit is een 2x2 sudoku. Natuurlijk is deze zo makkelijk dat je die misschien wel uit je hoofd kan oplossen, maar het gaat er vandaag om dat je leert hoe je een programma schrijft dat hem *voor* jou oplost. Als je dat eenmaal kan, kan je die ook gebruiken om de (hele moeilijke) bovenste sudoku op te lossen. En wie weet kan vind je wel andere puzzels waarbij je dit kan toepassen."
   ]
  },
  {
   "cell_type": "markdown",
   "metadata": {},
   "source": [
    "## Notebooks\n",
    "\n",
    "Een notebook maakt het mogelijk code in je browser te draaien. Hieronder wat vorbeelden. In het grijze blokje staat de code, als je op ctrl+enter drukt wordt die uitgevoer. Onder het grijze blok zie je de uitvoer. Dit is uitkomst waarde van de laatste regel.\n"
   ]
  },
  {
   "cell_type": "code",
   "execution_count": 1,
   "metadata": {
    "collapsed": false
   },
   "outputs": [
    {
     "data": {
      "text/plain": [
       "5"
      ]
     },
     "execution_count": 1,
     "metadata": {},
     "output_type": "execute_result"
    }
   ],
   "source": [
    "a=2\n",
    "b=3\n",
    "a+b"
   ]
  },
  {
   "cell_type": "code",
   "execution_count": 2,
   "metadata": {
    "collapsed": false
   },
   "outputs": [
    {
     "data": {
      "text/plain": [
       "2"
      ]
     },
     "execution_count": 2,
     "metadata": {},
     "output_type": "execute_result"
    }
   ],
   "source": [
    "a"
   ]
  },
  {
   "cell_type": "markdown",
   "metadata": {},
   "source": [
    "Je kan ook het `print` commando gebruiken om meer uitvoer te laten zien:"
   ]
  },
  {
   "cell_type": "code",
   "execution_count": 3,
   "metadata": {
    "collapsed": false
   },
   "outputs": [
    {
     "name": "stdout",
     "output_type": "stream",
     "text": [
      "abc\n",
      "a+b = 5\n"
     ]
    }
   ],
   "source": [
    "# er komen nu twee regels te staan\n",
    "print('abc')\n",
    "print('a+b =',a+b)"
   ]
  },
  {
   "cell_type": "markdown",
   "metadata": {},
   "source": [
    "Je kan de invoer veranderen, en per stukje opnieuw berekenen. Doe dit door op een blokje te klikken, iets aan te passen, en met `ctr+enter` opnieuw uit te voeren"
   ]
  },
  {
   "cell_type": "markdown",
   "metadata": {},
   "source": [
    "# Basis python\n",
    "\n",
    "In deze workshop gaan we een paar een paar bases (python) begrippen gebruiken, due handig als je alvast weet hoe het werkt"
   ]
  },
  {
   "cell_type": "markdown",
   "metadata": {},
   "source": [
    "## List"
   ]
  },
  {
   "cell_type": "code",
   "execution_count": 4,
   "metadata": {
    "collapsed": false
   },
   "outputs": [
    {
     "name": "stdout",
     "output_type": "stream",
     "text": [
      "lijstje = ['nulste', 'eerste', 2, 'derde']\n"
     ]
    }
   ],
   "source": [
    "lijstje = ['nulste','eerste',2,'derde']\n",
    "print('lijstje =',lijstje)"
   ]
  },
  {
   "cell_type": "code",
   "execution_count": 5,
   "metadata": {
    "collapsed": false
   },
   "outputs": [
    {
     "name": "stdout",
     "output_type": "stream",
     "text": [
      "plek 1 = eerste\n",
      "plek 0 = nulste\n",
      "plek 1 tot en met 3 = ['eerste', 2]\n"
     ]
    }
   ],
   "source": [
    "print('plek 1 =',lijstje[1])\n",
    "print('plek 0 =',lijstje[0])\n",
    "print('plek 1 tot en met 3 =',lijstje[1:3])"
   ]
  },
  {
   "cell_type": "markdown",
   "metadata": {},
   "source": [
    "## Loop"
   ]
  },
  {
   "cell_type": "code",
   "execution_count": 6,
   "metadata": {
    "collapsed": false
   },
   "outputs": [
    {
     "name": "stdout",
     "output_type": "stream",
     "text": [
      "ding = nulste\n",
      "ding = eerste\n",
      "ding = 2\n",
      "ding = derde\n"
     ]
    }
   ],
   "source": [
    "for ding in lijstje:\n",
    "    print('ding =',ding)"
   ]
  },
  {
   "cell_type": "markdown",
   "metadata": {},
   "source": [
    "Dat we de elemeneten van `lijstje` hier `ding` noemen is een keuze. We kunnen ze net zo goed wat anders noemen"
   ]
  },
  {
   "cell_type": "code",
   "execution_count": 7,
   "metadata": {
    "collapsed": false
   },
   "outputs": [
    {
     "name": "stdout",
     "output_type": "stream",
     "text": [
      "iets = nulste\n",
      "iets = eerste\n",
      "iets = 2\n",
      "iets = derde\n"
     ]
    }
   ],
   "source": [
    "for iets in lijstje:\n",
    "    print('iets =',iets)"
   ]
  },
  {
   "cell_type": "markdown",
   "metadata": {},
   "source": [
    "Er is ook een andere manier om dit op te scrijven, we noemen dit *list comprehension*. Dit heeft als vordeel dat we het resultaat van de iteratie gelijk weer in een nieuwe lijst hebben"
   ]
  },
  {
   "cell_type": "code",
   "execution_count": 8,
   "metadata": {
    "collapsed": false
   },
   "outputs": [
    {
     "name": "stdout",
     "output_type": "stream",
     "text": [
      "nulste\n",
      "eerste\n",
      "2\n",
      "derde\n",
      "nieuwe_lijst =  [None, None, None, None]\n"
     ]
    }
   ],
   "source": [
    "nieuwe_lijst = [print(ding) for ding in lijstje]\n",
    "print('nieuwe_lijst = ', nieuwe_lijst)"
   ]
  },
  {
   "cell_type": "code",
   "execution_count": 9,
   "metadata": {
    "collapsed": false
   },
   "outputs": [
    {
     "name": "stdout",
     "output_type": "stream",
     "text": [
      "nieuwe_lijst =  ['nulstenulste', 'eersteeerste', 4, 'derdederde']\n"
     ]
    }
   ],
   "source": [
    "nieuwe_lijst = [ding+ding for ding in lijstje]\n",
    "print('nieuwe_lijst = ', nieuwe_lijst)"
   ]
  },
  {
   "cell_type": "markdown",
   "metadata": {},
   "source": [
    "## Dict\n",
    "Een `dict` is, net als een `list`, een object waar je meerdere waarden in kan stoppen. Bij een `list` gaat het om de volgorde van je elementen, bij een `dict` om de `key`. Met de `key` kan je waardes opzoeken."
   ]
  },
  {
   "cell_type": "code",
   "execution_count": 10,
   "metadata": {
    "collapsed": false
   },
   "outputs": [
    {
     "name": "stdout",
     "output_type": "stream",
     "text": [
      "mijn dict = {'lijstje': [1, 2, 3], 'nog een lijstje': [4, 5, 6]}\n",
      "nog een lijstje = [4, 5, 6]\n"
     ]
    }
   ],
   "source": [
    "mijn_dict = {\n",
    "    'lijstje': [1,2,3],\n",
    "    'nog een lijstje': [4,5,6],\n",
    "    }\n",
    "print('mijn dict =',mijn_dict)\n",
    "print('nog een lijstje =',mijn_dict['nog een lijstje'])"
   ]
  },
  {
   "cell_type": "markdown",
   "metadata": {},
   "source": [
    "## Set\n",
    "Heel handig voor deze workshop is een `set`. Een set is een verzameling unieke objecten. Die kan je snel vergelijken."
   ]
  },
  {
   "cell_type": "code",
   "execution_count": 11,
   "metadata": {
    "collapsed": false
   },
   "outputs": [
    {
     "name": "stdout",
     "output_type": "stream",
     "text": [
      "alles in set1 behalve als het in set2 is = {1, 2}\n",
      "alles wat zowel in set1 en set2 is= {3, 4}\n",
      "alles wat in set1 en/of set2 is= {1, 2, 3, 4, 5, 6}\n"
     ]
    }
   ],
   "source": [
    "set1 = set([1,2,3,4])\n",
    "set2 = set([3,4,5,6])\n",
    "print('alles in set1 behalve als het in set2 is =',set1-set2)\n",
    "print('alles wat zowel in set1 en set2 is=',set1 & set2)\n",
    "print('alles wat in set1 en/of set2 is=',set1 | set2)"
   ]
  }
 ],
 "metadata": {
  "kernelspec": {
   "display_name": "Python 3",
   "language": "python",
   "name": "python3"
  },
  "language_info": {
   "codemirror_mode": {
    "name": "ipython",
    "version": 3
   },
   "file_extension": ".py",
   "mimetype": "text/x-python",
   "name": "python",
   "nbconvert_exporter": "python",
   "pygments_lexer": "ipython3",
   "version": "3.5.2"
  }
 },
 "nbformat": 4,
 "nbformat_minor": 0
}
