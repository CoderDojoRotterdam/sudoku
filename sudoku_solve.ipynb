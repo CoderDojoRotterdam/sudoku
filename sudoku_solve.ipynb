{
 "cells": [
  {
   "cell_type": "code",
   "execution_count": 1,
   "metadata": {
    "collapsed": false
   },
   "outputs": [
    {
     "name": "stdout",
     "output_type": "stream",
     "text": [
      "\n",
      "3.|1.\n",
      "..|34\n",
      "--+--\n",
      "43|..\n",
      "..|43\n",
      "\n"
     ]
    }
   ],
   "source": [
    "sudoku = \"\"\"\n",
    "3.|1.\n",
    "..|34\n",
    "--+--\n",
    "43|..\n",
    "..|43\n",
    "\"\"\"\n",
    "print(sudoku)"
   ]
  },
  {
   "cell_type": "code",
   "execution_count": 2,
   "metadata": {
    "collapsed": false
   },
   "outputs": [
    {
     "name": "stdout",
     "output_type": "stream",
     "text": [
      "['3', '.', '1', '.', '.', '.', '3', '4', '4', '3', '.', '.', '.', '.', '4', '3']\n"
     ]
    }
   ],
   "source": [
    "allowed = '.1234'\n",
    "sudoku = [letter for letter in sudoku if letter in allowed]\n",
    "print(sudoku)"
   ]
  },
  {
   "cell_type": "code",
   "execution_count": 3,
   "metadata": {
    "collapsed": false,
    "scrolled": true
   },
   "outputs": [
    {
     "name": "stdout",
     "output_type": "stream",
     "text": [
      "3    .    1    .    \n",
      ".    .    3    4    \n",
      "4    3    .    .    \n",
      ".    .    4    3    \n",
      "\n"
     ]
    }
   ],
   "source": [
    "def print_sudoku(sudoku):\n",
    "    s = ''\n",
    "    for i in range(4):\n",
    "        for j in range(4):\n",
    "            s += '{:5s}'.format(sudoku[i*4+j])\n",
    "        s += '\\n'\n",
    "    print(s)\n",
    "    \n",
    "print_sudoku(sudoku)"
   ]
  },
  {
   "cell_type": "code",
   "execution_count": 4,
   "metadata": {
    "collapsed": false,
    "scrolled": true
   },
   "outputs": [
    {
     "name": "stdout",
     "output_type": "stream",
     "text": [
      "sudoku =  ['3', '.', '1', '.', '.', '.', '3', '4', '4', '3', '.', '.', '.', '.', '4', '3']\n",
      "row    =  ['A', 'A', 'A', 'A', 'B', 'B', 'B', 'B', 'C', 'C', 'C', 'C', 'D', 'D', 'D', 'D']\n",
      "column =  ['A', 'B', 'C', 'D', 'A', 'B', 'C', 'D', 'A', 'B', 'C', 'D', 'A', 'B', 'C', 'D']\n",
      "block  =  ['A', 'A', 'B', 'B', 'A', 'A', 'B', 'B', 'C', 'C', 'D', 'D', 'C', 'C', 'D', 'D']\n"
     ]
    }
   ],
   "source": [
    "allowed = 'ABCD'\n",
    "\n",
    "row = \"\"\"\n",
    "AAAA\n",
    "BBBB\n",
    "CCCC\n",
    "DDDD\n",
    "\"\"\"\n",
    "row = [s for s in row if s in allowed]\n",
    "\n",
    "column = \"\"\"\n",
    "ABCD\n",
    "ABCD\n",
    "ABCD\n",
    "ABCD\n",
    "\"\"\"\n",
    "column = [s for s in column if s in allowed]\n",
    "\n",
    "block = \"\"\"\n",
    "AABB\n",
    "AABB\n",
    "CCDD\n",
    "CCDD\n",
    "\"\"\"\n",
    "block = [s for s in block if s in allowed]\n",
    "\n",
    "print('sudoku = ', sudoku)\n",
    "print('row    = ', row)\n",
    "print('column = ', column)\n",
    "print('block  = ', block)\n"
   ]
  },
  {
   "cell_type": "code",
   "execution_count": 5,
   "metadata": {
    "collapsed": false
   },
   "outputs": [
    {
     "name": "stdout",
     "output_type": "stream",
     "text": [
      "3    .    1    .    \n",
      ".    .    3    4    \n",
      "4    3    .    .    \n",
      ".    .    4    3    \n",
      "\n",
      "-----\n",
      "3    24   1    2    \n",
      "12   12   3    4    \n",
      "4    3    2    1    \n",
      "12   12   4    3    \n",
      "\n"
     ]
    }
   ],
   "source": [
    "print_sudoku(sudoku)\n",
    "print('-----')\n",
    "ok = set('1234')\n",
    "for i in range(16):\n",
    "    if sudoku[i] not in ok:\n",
    "        excluded = set()\n",
    "        for j in range(16):\n",
    "            if block[i] == block[j] or row[i] == row[j] or column[i] == column[j]:\n",
    "                excluded.add(sudoku[j])\n",
    "        sudoku[i] = ''.join(ok - excluded)\n",
    "print_sudoku(sudoku)"
   ]
  }
 ],
 "metadata": {
  "kernelspec": {
   "display_name": "Python 3",
   "language": "python",
   "name": "python3"
  },
  "language_info": {
   "codemirror_mode": {
    "name": "ipython",
    "version": 3
   },
   "file_extension": ".py",
   "mimetype": "text/x-python",
   "name": "python",
   "nbconvert_exporter": "python",
   "pygments_lexer": "ipython3",
   "version": "3.5.1"
  }
 },
 "nbformat": 4,
 "nbformat_minor": 0
}
