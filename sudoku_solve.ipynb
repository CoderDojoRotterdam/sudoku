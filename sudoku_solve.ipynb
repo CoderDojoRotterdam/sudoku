{
 "cells": [
  {
   "cell_type": "markdown",
   "metadata": {},
   "source": [
    "# Stap 0: voorbereiding\n",
    "\n",
    "- Installeer [Anaconda](http://repo.continuum.io/archive/Anaconda3-4.1.1-Windows-x86_64.exe)\n",
    "- start de python omgeving vanaf de command line met het commando\n",
    "  \n",
    "  ```\n",
    "  jupyter notebook\n",
    "  ```\n",
    "  \n",
    "- open de notebook omgeving in je browser: (http://localhost:8888)"
   ]
  },
  {
   "cell_type": "markdown",
   "metadata": {},
   "source": [
    "# Stap 1: Invoer"
   ]
  },
  {
   "cell_type": "code",
   "execution_count": 5,
   "metadata": {
    "collapsed": false
   },
   "outputs": [],
   "source": [
    "# tekst kan je invoeren door met drie dubbele quotes te beginnen en eindigen\n",
    "sudoku_invoer = \"\"\"\n",
    "3.|1.\n",
    "..|34\n",
    "--+--\n",
    "43|..\n",
    "..|43\n",
    "\"\"\""
   ]
  },
  {
   "cell_type": "code",
   "execution_count": 6,
   "metadata": {
    "collapsed": false
   },
   "outputs": [
    {
     "name": "stdout",
     "output_type": "stream",
     "text": [
      "\n",
      "3.|1.\n",
      "..|34\n",
      "--+--\n",
      "43|..\n",
      "..|43\n",
      "\n"
     ]
    }
   ],
   "source": [
    "# met het print commando kan je de net ingevoerde tekst laten weergeven\n",
    "print(sudoku_invoer)"
   ]
  },
  {
   "cell_type": "code",
   "execution_count": 7,
   "metadata": {
    "collapsed": false
   },
   "outputs": [
    {
     "data": {
      "text/plain": [
       "'\\n3.|1.\\n..|34\\n--+--\\n43|..\\n..|43\\n'"
      ]
     },
     "execution_count": 7,
     "metadata": {},
     "output_type": "execute_result"
    }
   ],
   "source": [
    "# in de variabele sudoku_invoer staan nu de volgende tekens. \\n betekent nieuwe regel\n",
    "sudoku_invoer"
   ]
  },
  {
   "cell_type": "code",
   "execution_count": 8,
   "metadata": {
    "collapsed": false
   },
   "outputs": [
    {
     "name": "stdout",
     "output_type": "stream",
     "text": [
      "['3', '.', '1', '.', '.', '.', '3', '4', '4', '3', '.', '.', '.', '.', '4', '3']\n"
     ]
    }
   ],
   "source": [
    "# we gaan nu de inhoud van sudoku_invoer filteren zodat alleen de toegestane tekens overblijven\n",
    "toegestaan = '.1234'\n",
    "sudoku = [letter for letter in sudoku_invoer if letter in toegestaan]\n",
    "\n",
    "\n",
    "# ook veranderen we de sudoku van een 'string' (een serie letters), naar een list (een lijst met inhoud)\n",
    "print(sudoku)"
   ]
  },
  {
   "cell_type": "code",
   "execution_count": 9,
   "metadata": {
    "collapsed": false
   },
   "outputs": [
    {
     "name": "stdout",
     "output_type": "stream",
     "text": [
      "eerste element: 3\n",
      "tweede tot vierde element: ['.', '1', '.']\n"
     ]
    }
   ],
   "source": [
    "# van een lijst kan je bijvoorbeeld alleen het eerste (begin bij nul te tellen):\n",
    "print('eerste element:', sudoku[0])\n",
    "print('tweede tot vierde element:', sudoku[1:4])"
   ]
  },
  {
   "cell_type": "markdown",
   "metadata": {},
   "source": [
    "# Stap 2: Uitvoer"
   ]
  },
  {
   "cell_type": "code",
   "execution_count": 10,
   "metadata": {
    "collapsed": false
   },
   "outputs": [
    {
     "name": "stdout",
     "output_type": "stream",
     "text": [
      "0 3\n",
      "1 .\n",
      "2 1\n",
      "3 .\n",
      "4 .\n",
      "5 .\n",
      "6 3\n",
      "7 4\n",
      "8 4\n",
      "9 3\n",
      "10 .\n",
      "11 .\n",
      "12 .\n",
      "13 .\n",
      "14 4\n",
      "15 3\n"
     ]
    }
   ],
   "source": [
    "# de lijst met tekens in sudoko kunnen we ook weer netjes als een sudoku weergeven\n",
    "\n",
    "# een voor een de sudoku weergeven (ieder cijfer op nieuwe regel)\n",
    "for getal in range(16):\n",
    "    print(getal, sudoku[getal])"
   ]
  },
  {
   "cell_type": "code",
   "execution_count": 11,
   "metadata": {
    "collapsed": false
   },
   "outputs": [
    {
     "name": "stdout",
     "output_type": "stream",
     "text": [
      "3\n"
     ]
    }
   ],
   "source": [
    "a =1\n",
    "b = 2\n",
    "a += b\n",
    "print(a)"
   ]
  },
  {
   "cell_type": "code",
   "execution_count": 12,
   "metadata": {
    "collapsed": false
   },
   "outputs": [
    {
     "name": "stdout",
     "output_type": "stream",
     "text": [
      "qerw\n"
     ]
    }
   ],
   "source": [
    "a = 'qer'\n",
    "b = 'w'\n",
    "a += b\n",
    "print(a)"
   ]
  },
  {
   "cell_type": "code",
   "execution_count": 13,
   "metadata": {
    "collapsed": false
   },
   "outputs": [
    {
     "name": "stdout",
     "output_type": "stream",
     "text": [
      "g3w133.1...3443....43\n"
     ]
    }
   ],
   "source": [
    "# alle cijfers achter elkaar\n",
    "\n",
    "s = 'g3w13'\n",
    "\n",
    "for getal in range(16):\n",
    "    s += sudoku[getal]\n",
    "    \n",
    "print(s)"
   ]
  },
  {
   "cell_type": "code",
   "execution_count": 14,
   "metadata": {
    "collapsed": false,
    "scrolled": true
   },
   "outputs": [
    {
     "name": "stdout",
     "output_type": "stream",
     "text": [
      "3        .        1        .        \n",
      ".        .        3        4        \n",
      "4        3        .        .        \n",
      ".        .        4        3        \n",
      "\n"
     ]
    }
   ],
   "source": [
    "def print_sudoku(sudoku):\n",
    "    s = ''\n",
    "    for rij in range(4):\n",
    "        for kolom in range(4):\n",
    "            s += '{:9s}'.format(','.join(sudoku[rij*4+kolom]))\n",
    "        s += '\\n'\n",
    "    print(s)\n",
    "    \n",
    "print_sudoku(sudoku)"
   ]
  },
  {
   "cell_type": "markdown",
   "metadata": {},
   "source": [
    "# Stap 3: de regels van een sudoku"
   ]
  },
  {
   "cell_type": "code",
   "execution_count": 15,
   "metadata": {
    "collapsed": false,
    "scrolled": true
   },
   "outputs": [
    {
     "name": "stdout",
     "output_type": "stream",
     "text": [
      "sudoku =  ['3', '.', '1', '.', '.', '.', '3', '4', '4', '3', '.', '.', '.', '.', '4', '3']\n",
      "row    =  ['A', 'A', 'A', 'A', 'B', 'B', 'B', 'B', 'C', 'C', 'C', 'C', 'D', 'D', 'D', 'D']\n",
      "column =  ['A', 'B', 'C', 'D', 'A', 'B', 'C', 'D', 'A', 'B', 'C', 'D', 'A', 'B', 'C', 'D']\n",
      "block  =  ['A', 'A', 'B', 'B', 'A', 'A', 'B', 'B', 'C', 'C', 'D', 'D', 'C', 'C', 'D', 'D']\n"
     ]
    }
   ],
   "source": [
    "allowed = 'ABCD'\n",
    "\n",
    "row = \"\"\"\n",
    "AAAA\n",
    "BBBB\n",
    "CCCC\n",
    "DDDD\n",
    "\"\"\"\n",
    "row = [s for s in row if s in allowed]\n",
    "\n",
    "column = \"\"\"\n",
    "ABCD\n",
    "ABCD\n",
    "ABCD\n",
    "ABCD\n",
    "\"\"\"\n",
    "column = [s for s in column if s in allowed]\n",
    "\n",
    "block = \"\"\"\n",
    "AABB\n",
    "AABB\n",
    "CCDD\n",
    "CCDD\n",
    "\"\"\"\n",
    "block = [s for s in block if s in allowed]\n",
    "\n",
    "print('sudoku = ', sudoku)\n",
    "print('row    = ', row)\n",
    "print('column = ', column)\n",
    "print('block  = ', block)\n"
   ]
  },
  {
   "cell_type": "markdown",
   "metadata": {},
   "source": [
    "# Stap 4: toepassen van de regels"
   ]
  },
  {
   "cell_type": "code",
   "execution_count": 16,
   "metadata": {
    "collapsed": false
   },
   "outputs": [
    {
     "data": {
      "text/plain": [
       "{'1', '2', '3', '4'}"
      ]
     },
     "execution_count": 16,
     "metadata": {},
     "output_type": "execute_result"
    }
   ],
   "source": [
    "opties = set('1234')\n",
    "opties"
   ]
  },
  {
   "cell_type": "code",
   "execution_count": 17,
   "metadata": {
    "collapsed": false
   },
   "outputs": [
    {
     "name": "stdout",
     "output_type": "stream",
     "text": [
      "3        1,3,4,2  1        1,3,4,2  \n",
      "1,3,4,2  1,3,4,2  3        4        \n",
      "4        3        1,3,4,2  1,3,4,2  \n",
      "1,3,4,2  1,3,4,2  4        3        \n",
      "\n"
     ]
    }
   ],
   "source": [
    "for i in range(16):\n",
    "    if sudoku[i] not in opties:\n",
    "        sudoku[i] = set('1234')\n",
    "        \n",
    "print_sudoku(sudoku)"
   ]
  },
  {
   "cell_type": "code",
   "execution_count": 20,
   "metadata": {
    "collapsed": false
   },
   "outputs": [
    {
     "name": "stdout",
     "output_type": "stream",
     "text": [
      "3        4,2      1        2        \n",
      "1,2      1,2      3        4        \n",
      "4        3        2        1,2      \n",
      "1,2      1,2      4        3        \n",
      "\n"
     ]
    }
   ],
   "source": [
    "for s1, r1, c1 ,b1 in zip(sudoku,row,column,block):\n",
    "    if s1 in opties:\n",
    "        continue\n",
    "    \n",
    "    in_gebruik = ''\n",
    "    for s2, r2, c2 ,b2 in zip(sudoku,row,column,block):\n",
    "        if s2 not in opties:\n",
    "            continue\n",
    "        if r1 == r2 or c1 == c2 or b1 == b2:\n",
    "            in_gebruik += s2\n",
    "            \n",
    "    s1 -= set(in_gebruik)\n",
    "    \n",
    "print_sudoku(sudoku)"
   ]
  },
  {
   "cell_type": "code",
   "execution_count": 119,
   "metadata": {
    "collapsed": false
   },
   "outputs": [
    {
     "data": {
      "text/plain": [
       "True"
      ]
     },
     "execution_count": 119,
     "metadata": {},
     "output_type": "execute_result"
    }
   ],
   "source": [
    "'1' in set('123')"
   ]
  },
  {
   "cell_type": "code",
   "execution_count": null,
   "metadata": {
    "collapsed": true
   },
   "outputs": [],
   "source": []
  }
 ],
 "metadata": {
  "kernelspec": {
   "display_name": "Python 3",
   "language": "python",
   "name": "python3"
  },
  "language_info": {
   "codemirror_mode": {
    "name": "ipython",
    "version": 3
   },
   "file_extension": ".py",
   "mimetype": "text/x-python",
   "name": "python",
   "nbconvert_exporter": "python",
   "pygments_lexer": "ipython3",
   "version": "3.5.1"
  }
 },
 "nbformat": 4,
 "nbformat_minor": 0
}
