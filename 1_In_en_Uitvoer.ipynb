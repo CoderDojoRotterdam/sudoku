{
 "cells": [
  {
   "cell_type": "markdown",
   "metadata": {},
   "source": [
    "# Invoer\n",
    "\n",
    "We gaan dus proberen op te lossen\n",
    "<img src=./examples/2x2b.png width = 120px></img>\n",
    "\n",
    "Als eerste moeten we dit een manier bedenken om dit in te typen, op een manier de voor de gebruiker *(dat ben jezelf dus)* en voor het programma begrijpelijk is"
   ]
  },
  {
   "cell_type": "code",
   "execution_count": 1,
   "metadata": {
    "collapsed": false
   },
   "outputs": [
    {
     "name": "stdout",
     "output_type": "stream",
     "text": [
      "\n",
      "3 . | 4 . \n",
      ". 1 | . 3\n",
      "----+----\n",
      "2 3 | . .\n",
      "1 . | . 2\n",
      "\n"
     ]
    }
   ],
   "source": [
    "# tekst kan je invoeren door met drie dubbele quotes te beginnen en eindigen\n",
    "invoer = \"\"\"\n",
    "3 . | 4 . \n",
    ". 1 | . 3\n",
    "----+----\n",
    "2 3 | . .\n",
    "1 . | . 2\n",
    "\"\"\"\n",
    "print(invoer)"
   ]
  },
  {
   "cell_type": "code",
   "execution_count": 2,
   "metadata": {
    "collapsed": false
   },
   "outputs": [
    {
     "data": {
      "text/plain": [
       "'\\n3 . | 4 . \\n. 1 | . 3\\n----+----\\n2 3 | . .\\n1 . | . 2\\n'"
      ]
     },
     "execution_count": 2,
     "metadata": {},
     "output_type": "execute_result"
    }
   ],
   "source": [
    "# in de variabele sudoku_invoer staan nu de volgende tekens. \\n betekent nieuwe regel\n",
    "invoer"
   ]
  },
  {
   "cell_type": "markdown",
   "metadata": {},
   "source": [
    "## Filteren\n",
    "In onze invoer staan dus allemaal overbodige tekens, die moeten we er uit gaan filteren"
   ]
  },
  {
   "cell_type": "code",
   "execution_count": 3,
   "metadata": {
    "collapsed": false
   },
   "outputs": [
    {
     "name": "stdout",
     "output_type": "stream",
     "text": [
      "['3', '.', '4', '.', '.', '1', '.', '3', '2', '3', '.', '.', '1', '.', '.', '2']\n"
     ]
    }
   ],
   "source": [
    "# we gaan nu de inhoud van sudoku_invoer filteren zodat alleen de toegestane tekens overblijven\n",
    "TEKENS = ['1','2','3','4']\n",
    "toegestane_invoer = TEKENS + ['.'] \n",
    "\n",
    "gefilterd = [teken for teken in invoer if teken in toegestane_invoer]\n",
    "\n",
    "\n",
    "# ook veranderen we de sudoku van een 'string' (een serie letters) \n",
    "# naar een list (een lijst met inhoud)\n",
    "print(gefilterd)"
   ]
  },
  {
   "cell_type": "code",
   "execution_count": 4,
   "metadata": {
    "collapsed": false
   },
   "outputs": [
    {
     "name": "stdout",
     "output_type": "stream",
     "text": [
      "eerste element: 3\n",
      "tweede tot vierde element: ['.', '4', '.']\n"
     ]
    }
   ],
   "source": [
    "# van een lijst kunnen we nu bijvoorbeeld alleen het eerste (begin bij nul te tellen):\n",
    "print('eerste element:', gefilterd[0])\n",
    "print('tweede tot vierde element:', gefilterd[1:4])"
   ]
  },
  {
   "cell_type": "markdown",
   "metadata": {},
   "source": [
    "## Onbekenden in de sudoku\n",
    "In onze invoer staan nu punten, dat betekent dat we nog niet weten wat daar moet staan, en dat zou dus 1,2,3 of 4 kunnen zijn. We gaan ieder element in de invoer vervangen voor alle mogelijkheden"
   ]
  },
  {
   "cell_type": "code",
   "execution_count": 5,
   "metadata": {
    "collapsed": false
   },
   "outputs": [
    {
     "name": "stdout",
     "output_type": "stream",
     "text": [
      "['3', ['1', '2', '3', '4'], '4', ['1', '2', '3', '4'], ['1', '2', '3', '4'], '1', ['1', '2', '3', '4'], '3', '2', '3', ['1', '2', '3', '4'], ['1', '2', '3', '4'], '1', ['1', '2', '3', '4'], ['1', '2', '3', '4'], '2']\n"
     ]
    }
   ],
   "source": [
    "sudoku = [TEKENS if teken == '.' else teken for teken in gefilterd]\n",
    "print(sudoku)"
   ]
  },
  {
   "cell_type": "code",
   "execution_count": 6,
   "metadata": {
    "collapsed": false
   },
   "outputs": [
    {
     "name": "stdout",
     "output_type": "stream",
     "text": [
      "[{'3'}, {'1', '4', '3', '2'}, {'4'}, {'1', '4', '3', '2'}, {'1', '4', '3', '2'}, {'1'}, {'1', '4', '3', '2'}, {'3'}, {'2'}, {'3'}, {'1', '4', '3', '2'}, {'1', '4', '3', '2'}, {'1'}, {'1', '4', '3', '2'}, {'1', '4', '3', '2'}, {'2'}]\n"
     ]
    }
   ],
   "source": [
    "## Set\n",
    "sudoku = [set(letters) for letters in sudoku]\n",
    "print(sudoku)"
   ]
  },
  {
   "cell_type": "markdown",
   "metadata": {},
   "source": [
    "# Uitvoer\n",
    "\n",
    "Handig zou zijn, om op een leesbare manier de sudoku weer te geven, met alle opties \n",
    "\n",
    "```\n",
    "         {'3'}            {'2', '3', '1', '4'}           {'4'}            {'2', '3', '1', '4'}  \n",
    "  {'2', '3', '1', '4'}           {'1'}            {'2', '3', '1', '4'}           {'3'}          \n",
    "         {'2'}                   {'3'}            {'2', '3', '1', '4'}    {'2', '3', '1', '4'}  \n",
    "         {'1'}            {'2', '3', '1', '4'}    {'2', '3', '1', '4'}           {'2'}  \n",
    "```"
   ]
  },
  {
   "cell_type": "code",
   "execution_count": 7,
   "metadata": {
    "collapsed": false,
    "scrolled": true
   },
   "outputs": [
    {
     "name": "stdout",
     "output_type": "stream",
     "text": [
      "0 {'3'}\n",
      "1 {'1', '4', '3', '2'}\n",
      "2 {'4'}\n",
      "3 {'1', '4', '3', '2'}\n",
      "4 {'1', '4', '3', '2'}\n",
      "5 {'1'}\n",
      "6 {'1', '4', '3', '2'}\n",
      "7 {'3'}\n",
      "8 {'2'}\n",
      "9 {'3'}\n",
      "10 {'1', '4', '3', '2'}\n",
      "11 {'1', '4', '3', '2'}\n",
      "12 {'1'}\n",
      "13 {'1', '4', '3', '2'}\n",
      "14 {'1', '4', '3', '2'}\n",
      "15 {'2'}\n"
     ]
    }
   ],
   "source": [
    "# de lijst met tekens in sudoko kunnen we ook weer netjes als een sudoku weergeven\n",
    "\n",
    "# een voor een de sudoku weergeven (ieder cijfer op nieuwe regel)\n",
    "for getal in [0,1,2,3,4,5,6,7,8,9,10,11,12,13,14,15]:\n",
    "    print(getal, sudoku[getal])"
   ]
  },
  {
   "cell_type": "code",
   "execution_count": 8,
   "metadata": {
    "collapsed": false,
    "scrolled": true
   },
   "outputs": [
    {
     "name": "stdout",
     "output_type": "stream",
     "text": [
      "0 {'3'}\n",
      "1 {'1', '4', '3', '2'}\n",
      "2 {'4'}\n",
      "3 {'1', '4', '3', '2'}\n",
      "4 {'1', '4', '3', '2'}\n",
      "5 {'1'}\n",
      "6 {'1', '4', '3', '2'}\n",
      "7 {'3'}\n",
      "8 {'2'}\n",
      "9 {'3'}\n",
      "10 {'1', '4', '3', '2'}\n",
      "11 {'1', '4', '3', '2'}\n",
      "12 {'1'}\n",
      "13 {'1', '4', '3', '2'}\n",
      "14 {'1', '4', '3', '2'}\n",
      "15 {'2'}\n"
     ]
    }
   ],
   "source": [
    "for i, s in enumerate(sudoku):\n",
    "    print(i, s)"
   ]
  },
  {
   "cell_type": "markdown",
   "metadata": {},
   "source": [
    "## Nieuwe regels"
   ]
  },
  {
   "cell_type": "code",
   "execution_count": 9,
   "metadata": {
    "collapsed": false
   },
   "outputs": [
    {
     "name": "stdout",
     "output_type": "stream",
     "text": [
      "{'3'}{'1', '4', '3', '2'}{'4'}{'1', '4', '3', '2'}{'1', '4', '3', '2'}{'1'}{'1', '4', '3', '2'}{'3'}{'2'}{'3'}{'1', '4', '3', '2'}{'1', '4', '3', '2'}{'1'}{'1', '4', '3', '2'}{'1', '4', '3', '2'}{'2'}"
     ]
    }
   ],
   "source": [
    "# alles achter elkaar...\n",
    "for i, s in enumerate(sudoku):\n",
    "    print(str(s),end='')"
   ]
  },
  {
   "cell_type": "code",
   "execution_count": 10,
   "metadata": {
    "collapsed": false
   },
   "outputs": [
    {
     "name": "stdout",
     "output_type": "stream",
     "text": [
      "0 0 {'3'}\n",
      "1 1 {'1', '4', '3', '2'}\n",
      "2 2 {'4'}\n",
      "3 3 {'1', '4', '3', '2'}\n",
      "4 0 {'1', '4', '3', '2'}\n",
      "5 1 {'1'}\n",
      "6 2 {'1', '4', '3', '2'}\n",
      "7 3 {'3'}\n",
      "8 0 {'2'}\n",
      "9 1 {'3'}\n",
      "10 2 {'1', '4', '3', '2'}\n",
      "11 3 {'1', '4', '3', '2'}\n",
      "12 0 {'1'}\n",
      "13 1 {'1', '4', '3', '2'}\n",
      "14 2 {'1', '4', '3', '2'}\n",
      "15 3 {'2'}\n"
     ]
    }
   ],
   "source": [
    "# modulus\n",
    "KOLOMMEN = 4\n",
    "for i, s in enumerate(sudoku):\n",
    "    print(i,i % KOLOMMEN, s)"
   ]
  },
  {
   "cell_type": "code",
   "execution_count": 11,
   "metadata": {
    "collapsed": false
   },
   "outputs": [
    {
     "name": "stdout",
     "output_type": "stream",
     "text": [
      "{'3'}{'1', '4', '3', '2'}{'4'}{'1', '4', '3', '2'}\n",
      "{'1', '4', '3', '2'}{'1'}{'1', '4', '3', '2'}{'3'}\n",
      "{'2'}{'3'}{'1', '4', '3', '2'}{'1', '4', '3', '2'}\n",
      "{'1'}{'1', '4', '3', '2'}{'1', '4', '3', '2'}{'2'}\n"
     ]
    }
   ],
   "source": [
    "# alles achter elkaar, maar soms een nieuwe regel\n",
    "# modulus\n",
    "KOLOMMEN = 4\n",
    "for i, s in enumerate(sudoku):\n",
    "    if ( (i+1) % KOLOMMEN) == 0:\n",
    "        print(s)\n",
    "    else:\n",
    "        print(s,end='')\n"
   ]
  },
  {
   "cell_type": "markdown",
   "metadata": {},
   "source": [
    "## Uitlijnen\n",
    "Niet alle strings zijn even lang, om alles netjes uit te lijnen kunnen we zeggen dat er spaties voor of achter de string moeten worden toegevoegd om alles netjes uit te lijnen"
   ]
  },
  {
   "cell_type": "code",
   "execution_count": 12,
   "metadata": {
    "collapsed": false
   },
   "outputs": [
    {
     "name": "stdout",
     "output_type": "stream",
     "text": [
      "| 1 |\n",
      "| 123 |\n",
      "| 12345 |\n"
     ]
    }
   ],
   "source": [
    "for s in ['1','123','12345']:\n",
    "    print('|',s,'|')"
   ]
  },
  {
   "cell_type": "code",
   "execution_count": 13,
   "metadata": {
    "collapsed": false
   },
   "outputs": [
    {
     "name": "stdout",
     "output_type": "stream",
     "text": [
      "|     1      |\n",
      "|    123     |\n",
      "|   12345    |\n"
     ]
    }
   ],
   "source": [
    "for s in ['1','123','12345']:\n",
    "    print('|',s.center(10),'|')"
   ]
  },
  {
   "cell_type": "code",
   "execution_count": 14,
   "metadata": {
    "collapsed": false
   },
   "outputs": [
    {
     "ename": "AttributeError",
     "evalue": "'set' object has no attribute 'center'",
     "output_type": "error",
     "traceback": [
      "\u001b[0;31m---------------------------------------------------------------------------\u001b[0m",
      "\u001b[0;31mAttributeError\u001b[0m                            Traceback (most recent call last)",
      "\u001b[0;32m<ipython-input-14-032e844e1ac1>\u001b[0m in \u001b[0;36m<module>\u001b[0;34m()\u001b[0m\n\u001b[1;32m      1\u001b[0m \u001b[0;31m# de center functie werkt alleen op een string\u001b[0m\u001b[0;34m\u001b[0m\u001b[0;34m\u001b[0m\u001b[0m\n\u001b[1;32m      2\u001b[0m \u001b[0;32mfor\u001b[0m \u001b[0mi\u001b[0m\u001b[0;34m,\u001b[0m \u001b[0ms\u001b[0m \u001b[0;32min\u001b[0m \u001b[0menumerate\u001b[0m\u001b[0;34m(\u001b[0m\u001b[0msudoku\u001b[0m\u001b[0;34m)\u001b[0m\u001b[0;34m:\u001b[0m\u001b[0;34m\u001b[0m\u001b[0m\n\u001b[0;32m----> 3\u001b[0;31m     \u001b[0mprint\u001b[0m\u001b[0;34m(\u001b[0m\u001b[0ms\u001b[0m\u001b[0;34m.\u001b[0m\u001b[0mcenter\u001b[0m\u001b[0;34m(\u001b[0m\u001b[0;36m20\u001b[0m\u001b[0;34m)\u001b[0m\u001b[0;34m)\u001b[0m\u001b[0;34m\u001b[0m\u001b[0m\n\u001b[0m",
      "\u001b[0;31mAttributeError\u001b[0m: 'set' object has no attribute 'center'"
     ]
    }
   ],
   "source": [
    "# de center functie werkt alleen op een string\n",
    "for i, s in enumerate(sudoku):\n",
    "    print(s.center(20))"
   ]
  },
  {
   "cell_type": "code",
   "execution_count": null,
   "metadata": {
    "collapsed": false
   },
   "outputs": [],
   "source": [
    "for i, s in enumerate(sudoku):\n",
    "    print(str(s).center(20))"
   ]
  },
  {
   "cell_type": "code",
   "execution_count": null,
   "metadata": {
    "collapsed": false
   },
   "outputs": [],
   "source": [
    "# alles achter elkaar, maar soms een nieuwe regel\n",
    "# modulus\n",
    "KOLOMMEN = 4\n",
    "for i, s in enumerate(sudoku):\n",
    "    s = str(s).center(24)\n",
    "    if ( (i+1) % KOLOMMEN) == 0:\n",
    "        print(s)\n",
    "    else:\n",
    "        print(s,end='')"
   ]
  },
  {
   "cell_type": "markdown",
   "metadata": {},
   "source": [
    "# Functies\n",
    "Nu we weten hoe we handig de in en uitvoer kunnen verwerken, kunnen we hier functies van maken. Dan hoeven we maar een keer op te schrijven hoe iets moet, en dan kunenn we dat hergebruiken"
   ]
  },
  {
   "cell_type": "code",
   "execution_count": null,
   "metadata": {
    "collapsed": true
   },
   "outputs": [],
   "source": [
    "def print_drie_keer(invoer):\n",
    "    print(invoer)\n",
    "    print(invoer)\n",
    "    print(invoer)    "
   ]
  },
  {
   "cell_type": "code",
   "execution_count": null,
   "metadata": {
    "collapsed": false
   },
   "outputs": [],
   "source": [
    "print_drie_keer('a')"
   ]
  },
  {
   "cell_type": "code",
   "execution_count": null,
   "metadata": {
    "collapsed": false
   },
   "outputs": [],
   "source": [
    "print_drie_keer('abc')"
   ]
  },
  {
   "cell_type": "markdown",
   "metadata": {},
   "source": [
    "### invoer functie"
   ]
  },
  {
   "cell_type": "code",
   "execution_count": null,
   "metadata": {
    "collapsed": false
   },
   "outputs": [],
   "source": [
    "TEKENS = ['1','2','3','4']\n",
    "def lees_sudoku(invoer):\n",
    "    toegestane_invoer = TEKENS + ['.'] \n",
    "    \n",
    "    # filteren\n",
    "    gefilterd = [teken for teken in invoer if teken in toegestane_invoer]\n",
    "    \n",
    "    # vervangen . voor alle tekens, en omzetten naar set\n",
    "    sudoku = [set(TEKENS) if teken == '.' else set(teken) for teken in gefilterd]\n",
    "\n",
    "    return(sudoku)"
   ]
  },
  {
   "cell_type": "code",
   "execution_count": null,
   "metadata": {
    "collapsed": false
   },
   "outputs": [],
   "source": [
    "invoer = \"\"\"\n",
    "3 . | 4 . \n",
    ". 1 | . 3\n",
    "----+----\n",
    "2 3 | . .\n",
    "1 . | . 2\n",
    "\"\"\"\n",
    "sudoku = lees_sudoku(invoer)\n",
    "print(sudoku)"
   ]
  },
  {
   "cell_type": "markdown",
   "metadata": {},
   "source": [
    "### uitvoer functie"
   ]
  },
  {
   "cell_type": "code",
   "execution_count": null,
   "metadata": {
    "collapsed": false,
    "scrolled": true
   },
   "outputs": [],
   "source": [
    "KOLOMMEN = 4\n",
    "def print_sudoku(sudoku):\n",
    "    for i, s in enumerate(sudoku):\n",
    "        s = str(s).center(24)\n",
    "        if ( (i+1) % KOLOMMEN) == 0:\n",
    "            print(s)\n",
    "        else:\n",
    "            print(s,end='')"
   ]
  },
  {
   "cell_type": "code",
   "execution_count": null,
   "metadata": {
    "collapsed": false
   },
   "outputs": [],
   "source": [
    "print_sudoku(sudoku)"
   ]
  },
  {
   "cell_type": "code",
   "execution_count": null,
   "metadata": {
    "collapsed": false
   },
   "outputs": [],
   "source": [
    "invoer = \"\"\"\n",
    "3 . | 4 . \n",
    ". 1 | . 3\n",
    "----+----\n",
    "2 3 | . .\n",
    "1 . | . 2\n",
    "\"\"\"\n",
    "sudoku = lees_sudoku(invoer)\n",
    "print_sudoku(sudoku)"
   ]
  },
  {
   "cell_type": "code",
   "execution_count": null,
   "metadata": {
    "collapsed": true
   },
   "outputs": [],
   "source": []
  }
 ],
 "metadata": {
  "kernelspec": {
   "display_name": "Python 3",
   "language": "python",
   "name": "python3"
  },
  "language_info": {
   "codemirror_mode": {
    "name": "ipython",
    "version": 3
   },
   "file_extension": ".py",
   "mimetype": "text/x-python",
   "name": "python",
   "nbconvert_exporter": "python",
   "pygments_lexer": "ipython3",
   "version": "3.5.2"
  }
 },
 "nbformat": 4,
 "nbformat_minor": 0
}
