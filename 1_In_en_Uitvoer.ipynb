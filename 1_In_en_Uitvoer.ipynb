{
 "cells": [
  {
   "cell_type": "markdown",
   "metadata": {},
   "source": [
    "# Invoer\n",
    "\n",
    "We gaan dus proberen op te lossen\n",
    "<img src=./examples/2x2b.png width = 120px></img>\n",
    "\n",
    "Als eerste moeten we dit een manier bedenken om dit in te typen, op een manier de voor de gebruiker *(dat ben jezelf dus)* en voor het programma begrijpelijk is"
   ]
  },
  {
   "cell_type": "code",
   "execution_count": 1,
   "metadata": {
    "collapsed": false
   },
   "outputs": [
    {
     "name": "stdout",
     "output_type": "stream",
     "text": [
      "\n",
      "3 . | 4 . \n",
      ". 1 | . 3\n",
      "----+----\n",
      "2 3 | . .\n",
      "1 . | . 2\n",
      "\n"
     ]
    }
   ],
   "source": [
    "# tekst kan je invoeren door met drie dubbele quotes te beginnen en eindigen\n",
    "invoer = \"\"\"\n",
    "3 . | 4 . \n",
    ". 1 | . 3\n",
    "----+----\n",
    "2 3 | . .\n",
    "1 . | . 2\n",
    "\"\"\"\n",
    "print(invoer)"
   ]
  },
  {
   "cell_type": "code",
   "execution_count": 2,
   "metadata": {
    "collapsed": false
   },
   "outputs": [
    {
     "data": {
      "text/plain": [
       "'\\n3 . | 4 . \\n. 1 | . 3\\n----+----\\n2 3 | . .\\n1 . | . 2\\n'"
      ]
     },
     "execution_count": 2,
     "metadata": {},
     "output_type": "execute_result"
    }
   ],
   "source": [
    "# in de variabele sudoku_invoer staan nu de volgende tekens. \\n betekent nieuwe regel\n",
    "invoer"
   ]
  },
  {
   "cell_type": "code",
   "execution_count": 3,
   "metadata": {
    "collapsed": false
   },
   "outputs": [
    {
     "name": "stdout",
     "output_type": "stream",
     "text": [
      "['3', '.', '4', '.', '.', '1', '.', '3', '2', '3', '.', '.', '1', '.', '.', '2']\n"
     ]
    }
   ],
   "source": [
    "# we gaan nu de inhoud van sudoku_invoer filteren zodat alleen de toegestane tekens overblijven\n",
    "gefilterd = [letter for letter in invoer if letter in '.1234']\n",
    "\n",
    "\n",
    "# ook veranderen we de sudoku van een 'string' (een serie letters) \n",
    "# naar een list (een lijst met inhoud)\n",
    "print(gefilterd)"
   ]
  },
  {
   "cell_type": "code",
   "execution_count": 4,
   "metadata": {
    "collapsed": false
   },
   "outputs": [
    {
     "name": "stdout",
     "output_type": "stream",
     "text": [
      "eerste element: 3\n",
      "tweede tot vierde element: ['.', '4', '.']\n"
     ]
    }
   ],
   "source": [
    "# van een lijst kunnen we nu bijvoorbeeld alleen het eerste (begin bij nul te tellen):\n",
    "print('eerste element:', gefilterd[0])\n",
    "print('tweede tot vierde element:', gefilterd[1:4])"
   ]
  },
  {
   "cell_type": "markdown",
   "metadata": {},
   "source": [
    "## Onbekenden in de sudoku\n",
    "In onze invoer staan nu punten, dat betekent dat we nog niet weten wat daar moet staan, en dat zou dus 1,2,3 of 4 kunnen zijn. We gaan ieder element in de invoer vervangen voor alle mogelijkheden"
   ]
  },
  {
   "cell_type": "code",
   "execution_count": 5,
   "metadata": {
    "collapsed": false
   },
   "outputs": [
    {
     "name": "stdout",
     "output_type": "stream",
     "text": [
      "[{'3'}, {'3', '1', '4', '2'}, {'4'}, {'3', '1', '4', '2'}, {'3', '1', '4', '2'}, {'1'}, {'3', '1', '4', '2'}, {'3'}, {'2'}, {'3'}, {'3', '1', '4', '2'}, {'3', '1', '4', '2'}, {'1'}, {'3', '1', '4', '2'}, {'3', '1', '4', '2'}, {'2'}]\n"
     ]
    }
   ],
   "source": [
    "def vervang(letter):\n",
    "    if letter == '.':\n",
    "        return set('1234')\n",
    "    else:\n",
    "        return set(letter)\n",
    "\n",
    "sudoku = [vervang(letter) for letter in gefilterd ]\n",
    "print(sudoku)"
   ]
  },
  {
   "cell_type": "markdown",
   "metadata": {},
   "source": [
    "# Uitvoer"
   ]
  },
  {
   "cell_type": "code",
   "execution_count": 6,
   "metadata": {
    "collapsed": false,
    "scrolled": true
   },
   "outputs": [
    {
     "name": "stdout",
     "output_type": "stream",
     "text": [
      "0 {'3'}\n",
      "1 {'3', '1', '4', '2'}\n",
      "2 {'4'}\n",
      "3 {'3', '1', '4', '2'}\n",
      "4 {'3', '1', '4', '2'}\n",
      "5 {'1'}\n",
      "6 {'3', '1', '4', '2'}\n",
      "7 {'3'}\n",
      "8 {'2'}\n",
      "9 {'3'}\n",
      "10 {'3', '1', '4', '2'}\n",
      "11 {'3', '1', '4', '2'}\n",
      "12 {'1'}\n",
      "13 {'3', '1', '4', '2'}\n",
      "14 {'3', '1', '4', '2'}\n",
      "15 {'2'}\n"
     ]
    }
   ],
   "source": [
    "# de lijst met tekens in sudoko kunnen we ook weer netjes als een sudoku weergeven\n",
    "\n",
    "# een voor een de sudoku weergeven (ieder cijfer op nieuwe regel)\n",
    "for getal in range(16):\n",
    "    print(getal, sudoku[getal])"
   ]
  },
  {
   "cell_type": "code",
   "execution_count": 7,
   "metadata": {
    "collapsed": false,
    "scrolled": true
   },
   "outputs": [
    {
     "name": "stdout",
     "output_type": "stream",
     "text": [
      "3        3,1,4,2  4        3,1,4,2  \n",
      "3,1,4,2  1        3,1,4,2  3        \n",
      "2        3        3,1,4,2  3,1,4,2  \n",
      "1        3,1,4,2  3,1,4,2  2        \n",
      "\n"
     ]
    }
   ],
   "source": [
    "def print_sudoku(sudoku):\n",
    "    s = ''\n",
    "    for rij in range(4):\n",
    "        for kolom in range(4):\n",
    "            s += '{:9s}'.format(','.join(sudoku[rij*4+kolom]))\n",
    "        s += '\\n'\n",
    "    print(s)\n",
    "    \n",
    "print_sudoku(sudoku)"
   ]
  },
  {
   "cell_type": "markdown",
   "metadata": {},
   "source": [
    "# Stap 3: de regels van een sudoku"
   ]
  },
  {
   "cell_type": "code",
   "execution_count": 8,
   "metadata": {
    "collapsed": false,
    "scrolled": true
   },
   "outputs": [
    {
     "name": "stdout",
     "output_type": "stream",
     "text": [
      "sudoku =  [{'3'}, {'3', '1', '4', '2'}, {'4'}, {'3', '1', '4', '2'}, {'3', '1', '4', '2'}, {'1'}, {'3', '1', '4', '2'}, {'3'}, {'2'}, {'3'}, {'3', '1', '4', '2'}, {'3', '1', '4', '2'}, {'1'}, {'3', '1', '4', '2'}, {'3', '1', '4', '2'}, {'2'}]\n",
      "row    =  ['A', 'A', 'A', 'A', 'B', 'B', 'B', 'B', 'C', 'C', 'C', 'C', 'D', 'D', 'D', 'D']\n",
      "column =  ['A', 'B', 'C', 'D', 'A', 'B', 'C', 'D', 'A', 'B', 'C', 'D', 'A', 'B', 'C', 'D']\n",
      "block  =  ['A', 'A', 'B', 'B', 'A', 'A', 'B', 'B', 'C', 'C', 'D', 'D', 'C', 'C', 'D', 'D']\n"
     ]
    }
   ],
   "source": [
    "allowed = 'ABCD'\n",
    "\n",
    "row = \"\"\"\n",
    "AAAA\n",
    "BBBB\n",
    "CCCC\n",
    "DDDD\n",
    "\"\"\"\n",
    "row = [s for s in row if s in allowed]\n",
    "\n",
    "column = \"\"\"\n",
    "ABCD\n",
    "ABCD\n",
    "ABCD\n",
    "ABCD\n",
    "\"\"\"\n",
    "column = [s for s in column if s in allowed]\n",
    "\n",
    "block = \"\"\"\n",
    "AABB\n",
    "AABB\n",
    "CCDD\n",
    "CCDD\n",
    "\"\"\"\n",
    "block = [s for s in block if s in allowed]\n",
    "\n",
    "print('sudoku = ', sudoku)\n",
    "print('row    = ', row)\n",
    "print('column = ', column)\n",
    "print('block  = ', block)\n"
   ]
  },
  {
   "cell_type": "markdown",
   "metadata": {},
   "source": [
    "# Stap 4: toepassen van de regels"
   ]
  },
  {
   "cell_type": "code",
   "execution_count": 9,
   "metadata": {
    "collapsed": false
   },
   "outputs": [
    {
     "data": {
      "text/plain": [
       "{'1', '2', '3', '4'}"
      ]
     },
     "execution_count": 9,
     "metadata": {},
     "output_type": "execute_result"
    }
   ],
   "source": [
    "opties = set('1234')\n",
    "opties"
   ]
  },
  {
   "cell_type": "code",
   "execution_count": 10,
   "metadata": {
    "collapsed": false
   },
   "outputs": [
    {
     "name": "stdout",
     "output_type": "stream",
     "text": [
      "3,1,4,2  3,1,4,2  3,1,4,2  3,1,4,2  \n",
      "3,1,4,2  3,1,4,2  3,1,4,2  3,1,4,2  \n",
      "3,1,4,2  3,1,4,2  3,1,4,2  3,1,4,2  \n",
      "3,1,4,2  3,1,4,2  3,1,4,2  3,1,4,2  \n",
      "\n"
     ]
    }
   ],
   "source": [
    "for i in range(16):\n",
    "    if sudoku[i] not in opties:\n",
    "        sudoku[i] = set('1234')\n",
    "        \n",
    "print_sudoku(sudoku)"
   ]
  },
  {
   "cell_type": "code",
   "execution_count": 11,
   "metadata": {
    "collapsed": false
   },
   "outputs": [
    {
     "name": "stdout",
     "output_type": "stream",
     "text": [
      "3,1,4,2  3,1,4,2  3,1,4,2  3,1,4,2  \n",
      "3,1,4,2  3,1,4,2  3,1,4,2  3,1,4,2  \n",
      "3,1,4,2  3,1,4,2  3,1,4,2  3,1,4,2  \n",
      "3,1,4,2  3,1,4,2  3,1,4,2  3,1,4,2  \n",
      "\n"
     ]
    }
   ],
   "source": [
    "for s1, r1, c1 ,b1 in zip(sudoku,row,column,block):\n",
    "    if s1 in opties:\n",
    "        continue\n",
    "    \n",
    "    in_gebruik = ''\n",
    "    for s2, r2, c2 ,b2 in zip(sudoku,row,column,block):\n",
    "        if s2 not in opties:\n",
    "            continue\n",
    "        if r1 == r2 or c1 == c2 or b1 == b2:\n",
    "            in_gebruik += s2\n",
    "            \n",
    "    s1 -= set(in_gebruik)\n",
    "    \n",
    "print_sudoku(sudoku)"
   ]
  },
  {
   "cell_type": "code",
   "execution_count": 12,
   "metadata": {
    "collapsed": false
   },
   "outputs": [
    {
     "data": {
      "text/plain": [
       "True"
      ]
     },
     "execution_count": 12,
     "metadata": {},
     "output_type": "execute_result"
    }
   ],
   "source": [
    "'1' in set('123')"
   ]
  },
  {
   "cell_type": "code",
   "execution_count": null,
   "metadata": {
    "collapsed": true
   },
   "outputs": [],
   "source": []
  }
 ],
 "metadata": {
  "kernelspec": {
   "display_name": "Python 3",
   "language": "python",
   "name": "python3"
  },
  "language_info": {
   "codemirror_mode": {
    "name": "ipython",
    "version": 3
   },
   "file_extension": ".py",
   "mimetype": "text/x-python",
   "name": "python",
   "nbconvert_exporter": "python",
   "pygments_lexer": "ipython3",
   "version": "3.5.2"
  }
 },
 "nbformat": 4,
 "nbformat_minor": 0
}
